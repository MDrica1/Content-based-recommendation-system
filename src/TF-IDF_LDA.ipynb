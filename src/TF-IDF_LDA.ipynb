{
 "cells": [
  {
   "cell_type": "markdown",
   "metadata": {},
   "source": [
    "# Content-based recommendation: TF-IDF and LDA"
   ]
  },
  {
   "cell_type": "code",
   "execution_count": null,
   "metadata": {},
   "outputs": [],
   "source": [
    "import pickle\n",
    "import numpy as np\n",
    "import pandas as pd\n",
    "from sklearn.feature_extraction.text import TfidfVectorizer, CountVectorizer\n",
    "from sklearn.decomposition import LatentDirichletAllocation\n",
    "from sklearn.preprocessing import normalize\n"
   ]
  },
  {
   "cell_type": "markdown",
   "metadata": {},
   "source": []
  },
  {
   "cell_type": "code",
   "execution_count": 4,
   "metadata": {},
   "outputs": [],
   "source": [
    "ratings_path = r\"C:\\Users\\diele\\OneDrive\\Área de Trabalho\\Recomendação Inteligente\\Base de dados\\XWines_Slim_1K_wines_150K_ratings\\XWines_Slim_150K_ratings.csv\"\n",
    "wines_path = r\"C:\\Users\\diele\\OneDrive\\Área de Trabalho\\Recomendação Inteligente\\Base de dados\\XWines_Slim_1K_wines_150K_ratings\\XWines_Slim_1K_wines.csv\"\n",
    "\n",
    "wines = pd.read_csv(wines_path)\n",
    "ratings = pd.read_csv(ratings_path, low_memory=False)"
   ]
  },
  {
   "cell_type": "markdown",
   "metadata": {},
   "source": [
    "## Organizing data\n",
    "\n",
    "- Merge the datasets\n",
    "- Clean attributes\n",
    "- Create a new attribute named \"Description\""
   ]
  },
  {
   "cell_type": "code",
   "execution_count": 25,
   "metadata": {},
   "outputs": [],
   "source": [
    "# Merge\n",
    "\n",
    "wines_ratings = pd.merge(wines, ratings, on='WineID')\n",
    "\n",
    "# Cleaning the attributes \"Grapes\" and \"Harmonize\", as there is more than one word in them\n",
    "\n",
    "grape = wines_ratings[\"Grapes\"].str.split(\",\",expand=True).stack().str.replace(\"[\",\"\").str.replace(\"]\",\"\").str.strip().reset_index(level=1,drop=True).rename(\"Grape\")\n",
    "harm = wines_ratings[\"Harmonize\"].str.split(\",\",expand=True).stack().str.replace(\"[\",\"\").str.replace(\"]\",\"\").str.strip().reset_index(level=1,drop=True).rename(\"Harmonize1\")\n",
    "\n",
    "\n",
    "wines_ratings = wines_ratings.join(grape)\n",
    "wines_ratings = wines_ratings.join(harm)\n",
    "\n",
    "# Creating attribute \"Description\"\n",
    "wines_ratings[\"Description\"] = (wines_ratings[\"WineName\"] + \" \" +\n",
    "                                wines_ratings[\"Type\"] + \" \" +\n",
    "                                wines_ratings[\"Elaborate\"] + \" \" +\n",
    "                                wines_ratings[\"Grape\"] + \" \" +\n",
    "                                wines_ratings[\"Body\"] + \" \" +\n",
    "                                wines_ratings[\"Acidity\"] + \" \" +\n",
    "                                wines_ratings[\"Country\"] + \" \" +\n",
    "                                wines_ratings[\"RegionName\"] +\"Harmoniza com \" +\n",
    "                                wines_ratings[\"Harmonize1\"] \n",
    "\n",
    "descriptions = wines_ratings[\"Description\"]\n"
   ]
  },
  {
   "cell_type": "code",
   "execution_count": 34,
   "metadata": {
    "scrolled": true
   },
   "outputs": [
    {
     "data": {
      "text/html": [
       "<div>\n",
       "<style scoped>\n",
       "    .dataframe tbody tr th:only-of-type {\n",
       "        vertical-align: middle;\n",
       "    }\n",
       "\n",
       "    .dataframe tbody tr th {\n",
       "        vertical-align: top;\n",
       "    }\n",
       "\n",
       "    .dataframe thead th {\n",
       "        text-align: right;\n",
       "    }\n",
       "</style>\n",
       "<table border=\"1\" class=\"dataframe\">\n",
       "  <thead>\n",
       "    <tr style=\"text-align: right;\">\n",
       "      <th></th>\n",
       "      <th>0</th>\n",
       "      <th>0</th>\n",
       "    </tr>\n",
       "  </thead>\n",
       "  <tbody>\n",
       "    <tr>\n",
       "      <th>WineID</th>\n",
       "      <td>100001</td>\n",
       "      <td>100001</td>\n",
       "    </tr>\n",
       "    <tr>\n",
       "      <th>WineName</th>\n",
       "      <td>Espumante Moscatel</td>\n",
       "      <td>Espumante Moscatel</td>\n",
       "    </tr>\n",
       "    <tr>\n",
       "      <th>Type</th>\n",
       "      <td>Sparkling</td>\n",
       "      <td>Sparkling</td>\n",
       "    </tr>\n",
       "    <tr>\n",
       "      <th>Elaborate</th>\n",
       "      <td>Varietal/100%</td>\n",
       "      <td>Varietal/100%</td>\n",
       "    </tr>\n",
       "    <tr>\n",
       "      <th>Grapes</th>\n",
       "      <td>['Muscat/Moscato']</td>\n",
       "      <td>['Muscat/Moscato']</td>\n",
       "    </tr>\n",
       "    <tr>\n",
       "      <th>Harmonize</th>\n",
       "      <td>['Pork', 'Rich Fish', 'Shellfish']</td>\n",
       "      <td>['Pork', 'Rich Fish', 'Shellfish']</td>\n",
       "    </tr>\n",
       "    <tr>\n",
       "      <th>ABV</th>\n",
       "      <td>7.5</td>\n",
       "      <td>7.5</td>\n",
       "    </tr>\n",
       "    <tr>\n",
       "      <th>Body</th>\n",
       "      <td>Medium-bodied</td>\n",
       "      <td>Medium-bodied</td>\n",
       "    </tr>\n",
       "    <tr>\n",
       "      <th>Acidity</th>\n",
       "      <td>High</td>\n",
       "      <td>High</td>\n",
       "    </tr>\n",
       "    <tr>\n",
       "      <th>Code</th>\n",
       "      <td>BR</td>\n",
       "      <td>BR</td>\n",
       "    </tr>\n",
       "    <tr>\n",
       "      <th>Country</th>\n",
       "      <td>Brazil</td>\n",
       "      <td>Brazil</td>\n",
       "    </tr>\n",
       "    <tr>\n",
       "      <th>RegionID</th>\n",
       "      <td>1001</td>\n",
       "      <td>1001</td>\n",
       "    </tr>\n",
       "    <tr>\n",
       "      <th>RegionName</th>\n",
       "      <td>Serra Gaúcha</td>\n",
       "      <td>Serra Gaúcha</td>\n",
       "    </tr>\n",
       "    <tr>\n",
       "      <th>WineryID</th>\n",
       "      <td>10001</td>\n",
       "      <td>10001</td>\n",
       "    </tr>\n",
       "    <tr>\n",
       "      <th>WineryName</th>\n",
       "      <td>Casa Perini</td>\n",
       "      <td>Casa Perini</td>\n",
       "    </tr>\n",
       "    <tr>\n",
       "      <th>Website</th>\n",
       "      <td>http://www.vinicolaperini.com.br</td>\n",
       "      <td>http://www.vinicolaperini.com.br</td>\n",
       "    </tr>\n",
       "    <tr>\n",
       "      <th>Vintages</th>\n",
       "      <td>[2020, 2019, 2018, 2017, 2016, 2015, 2014, 201...</td>\n",
       "      <td>[2020, 2019, 2018, 2017, 2016, 2015, 2014, 201...</td>\n",
       "    </tr>\n",
       "    <tr>\n",
       "      <th>RatingID</th>\n",
       "      <td>326545</td>\n",
       "      <td>326545</td>\n",
       "    </tr>\n",
       "    <tr>\n",
       "      <th>UserID</th>\n",
       "      <td>1756594</td>\n",
       "      <td>1756594</td>\n",
       "    </tr>\n",
       "    <tr>\n",
       "      <th>Vintage</th>\n",
       "      <td>1999</td>\n",
       "      <td>1999</td>\n",
       "    </tr>\n",
       "    <tr>\n",
       "      <th>Rating</th>\n",
       "      <td>4.0</td>\n",
       "      <td>4.0</td>\n",
       "    </tr>\n",
       "    <tr>\n",
       "      <th>Date</th>\n",
       "      <td>2017-10-08 17:32:46</td>\n",
       "      <td>2017-10-08 17:32:46</td>\n",
       "    </tr>\n",
       "    <tr>\n",
       "      <th>Grape</th>\n",
       "      <td>'Muscat/Moscato'</td>\n",
       "      <td>'Muscat/Moscato'</td>\n",
       "    </tr>\n",
       "    <tr>\n",
       "      <th>Harmonize1</th>\n",
       "      <td>'Pork'</td>\n",
       "      <td>'Rich Fish'</td>\n",
       "    </tr>\n",
       "    <tr>\n",
       "      <th>Description</th>\n",
       "      <td>Espumante Moscatel Sparkling Varietal/100% 'Mu...</td>\n",
       "      <td>Espumante Moscatel Sparkling Varietal/100% 'Mu...</td>\n",
       "    </tr>\n",
       "  </tbody>\n",
       "</table>\n",
       "</div>"
      ],
      "text/plain": [
       "                                                             0  \\\n",
       "WineID                                                  100001   \n",
       "WineName                                    Espumante Moscatel   \n",
       "Type                                                 Sparkling   \n",
       "Elaborate                                        Varietal/100%   \n",
       "Grapes                                      ['Muscat/Moscato']   \n",
       "Harmonize                   ['Pork', 'Rich Fish', 'Shellfish']   \n",
       "ABV                                                        7.5   \n",
       "Body                                             Medium-bodied   \n",
       "Acidity                                                   High   \n",
       "Code                                                        BR   \n",
       "Country                                                 Brazil   \n",
       "RegionID                                                  1001   \n",
       "RegionName                                        Serra Gaúcha   \n",
       "WineryID                                                 10001   \n",
       "WineryName                                         Casa Perini   \n",
       "Website                       http://www.vinicolaperini.com.br   \n",
       "Vintages     [2020, 2019, 2018, 2017, 2016, 2015, 2014, 201...   \n",
       "RatingID                                                326545   \n",
       "UserID                                                 1756594   \n",
       "Vintage                                                   1999   \n",
       "Rating                                                     4.0   \n",
       "Date                                       2017-10-08 17:32:46   \n",
       "Grape                                         'Muscat/Moscato'   \n",
       "Harmonize1                                              'Pork'   \n",
       "Description  Espumante Moscatel Sparkling Varietal/100% 'Mu...   \n",
       "\n",
       "                                                             0  \n",
       "WineID                                                  100001  \n",
       "WineName                                    Espumante Moscatel  \n",
       "Type                                                 Sparkling  \n",
       "Elaborate                                        Varietal/100%  \n",
       "Grapes                                      ['Muscat/Moscato']  \n",
       "Harmonize                   ['Pork', 'Rich Fish', 'Shellfish']  \n",
       "ABV                                                        7.5  \n",
       "Body                                             Medium-bodied  \n",
       "Acidity                                                   High  \n",
       "Code                                                        BR  \n",
       "Country                                                 Brazil  \n",
       "RegionID                                                  1001  \n",
       "RegionName                                        Serra Gaúcha  \n",
       "WineryID                                                 10001  \n",
       "WineryName                                         Casa Perini  \n",
       "Website                       http://www.vinicolaperini.com.br  \n",
       "Vintages     [2020, 2019, 2018, 2017, 2016, 2015, 2014, 201...  \n",
       "RatingID                                                326545  \n",
       "UserID                                                 1756594  \n",
       "Vintage                                                   1999  \n",
       "Rating                                                     4.0  \n",
       "Date                                       2017-10-08 17:32:46  \n",
       "Grape                                         'Muscat/Moscato'  \n",
       "Harmonize1                                         'Rich Fish'  \n",
       "Description  Espumante Moscatel Sparkling Varietal/100% 'Mu...  "
      ]
     },
     "execution_count": 34,
     "metadata": {},
     "output_type": "execute_result"
    }
   ],
   "source": [
    "wines_ratings.head(2).T"
   ]
  },
  {
   "cell_type": "markdown",
   "metadata": {},
   "source": [
    "## TF - IDF"
   ]
  },
  {
   "cell_type": "code",
   "execution_count": 33,
   "metadata": {},
   "outputs": [
    {
     "data": {
      "text/plain": [
       "(1010887, 2397)"
      ]
     },
     "execution_count": 33,
     "metadata": {},
     "output_type": "execute_result"
    }
   ],
   "source": [
    "tfidfVectorizer = TfidfVectorizer(stop_words=[\"english\",\"portuguese\"]) # stop words = eliminates unimportant words \n",
    "tfidfMatrix = tfidfVectorizer.fit_transform(descriptions)\n",
    "tfidfMatrix.shape"
   ]
  },
  {
   "cell_type": "markdown",
   "metadata": {},
   "source": [
    "## LDA"
   ]
  },
  {
   "cell_type": "code",
   "execution_count": 35,
   "metadata": {},
   "outputs": [
    {
     "data": {
      "text/plain": [
       "(1010887, 2397)"
      ]
     },
     "execution_count": 35,
     "metadata": {},
     "output_type": "execute_result"
    }
   ],
   "source": [
    "ldaVectorizer = CountVectorizer(stop_words=[\"english\",\"portuguese\"])\n",
    "word_count = ldaVectorizer.fit_transform(descriptions)\n",
    "word_count.shape"
   ]
  },
  {
   "cell_type": "code",
   "execution_count": 36,
   "metadata": {},
   "outputs": [
    {
     "data": {
      "text/html": [
       "<style>#sk-container-id-1 {color: black;}#sk-container-id-1 pre{padding: 0;}#sk-container-id-1 div.sk-toggleable {background-color: white;}#sk-container-id-1 label.sk-toggleable__label {cursor: pointer;display: block;width: 100%;margin-bottom: 0;padding: 0.3em;box-sizing: border-box;text-align: center;}#sk-container-id-1 label.sk-toggleable__label-arrow:before {content: \"▸\";float: left;margin-right: 0.25em;color: #696969;}#sk-container-id-1 label.sk-toggleable__label-arrow:hover:before {color: black;}#sk-container-id-1 div.sk-estimator:hover label.sk-toggleable__label-arrow:before {color: black;}#sk-container-id-1 div.sk-toggleable__content {max-height: 0;max-width: 0;overflow: hidden;text-align: left;background-color: #f0f8ff;}#sk-container-id-1 div.sk-toggleable__content pre {margin: 0.2em;color: black;border-radius: 0.25em;background-color: #f0f8ff;}#sk-container-id-1 input.sk-toggleable__control:checked~div.sk-toggleable__content {max-height: 200px;max-width: 100%;overflow: auto;}#sk-container-id-1 input.sk-toggleable__control:checked~label.sk-toggleable__label-arrow:before {content: \"▾\";}#sk-container-id-1 div.sk-estimator input.sk-toggleable__control:checked~label.sk-toggleable__label {background-color: #d4ebff;}#sk-container-id-1 div.sk-label input.sk-toggleable__control:checked~label.sk-toggleable__label {background-color: #d4ebff;}#sk-container-id-1 input.sk-hidden--visually {border: 0;clip: rect(1px 1px 1px 1px);clip: rect(1px, 1px, 1px, 1px);height: 1px;margin: -1px;overflow: hidden;padding: 0;position: absolute;width: 1px;}#sk-container-id-1 div.sk-estimator {font-family: monospace;background-color: #f0f8ff;border: 1px dotted black;border-radius: 0.25em;box-sizing: border-box;margin-bottom: 0.5em;}#sk-container-id-1 div.sk-estimator:hover {background-color: #d4ebff;}#sk-container-id-1 div.sk-parallel-item::after {content: \"\";width: 100%;border-bottom: 1px solid gray;flex-grow: 1;}#sk-container-id-1 div.sk-label:hover label.sk-toggleable__label {background-color: #d4ebff;}#sk-container-id-1 div.sk-serial::before {content: \"\";position: absolute;border-left: 1px solid gray;box-sizing: border-box;top: 0;bottom: 0;left: 50%;z-index: 0;}#sk-container-id-1 div.sk-serial {display: flex;flex-direction: column;align-items: center;background-color: white;padding-right: 0.2em;padding-left: 0.2em;position: relative;}#sk-container-id-1 div.sk-item {position: relative;z-index: 1;}#sk-container-id-1 div.sk-parallel {display: flex;align-items: stretch;justify-content: center;background-color: white;position: relative;}#sk-container-id-1 div.sk-item::before, #sk-container-id-1 div.sk-parallel-item::before {content: \"\";position: absolute;border-left: 1px solid gray;box-sizing: border-box;top: 0;bottom: 0;left: 50%;z-index: -1;}#sk-container-id-1 div.sk-parallel-item {display: flex;flex-direction: column;z-index: 1;position: relative;background-color: white;}#sk-container-id-1 div.sk-parallel-item:first-child::after {align-self: flex-end;width: 50%;}#sk-container-id-1 div.sk-parallel-item:last-child::after {align-self: flex-start;width: 50%;}#sk-container-id-1 div.sk-parallel-item:only-child::after {width: 0;}#sk-container-id-1 div.sk-dashed-wrapped {border: 1px dashed gray;margin: 0 0.4em 0.5em 0.4em;box-sizing: border-box;padding-bottom: 0.4em;background-color: white;}#sk-container-id-1 div.sk-label label {font-family: monospace;font-weight: bold;display: inline-block;line-height: 1.2em;}#sk-container-id-1 div.sk-label-container {text-align: center;}#sk-container-id-1 div.sk-container {/* jupyter's `normalize.less` sets `[hidden] { display: none; }` but bootstrap.min.css set `[hidden] { display: none !important; }` so we also need the `!important` here to be able to override the default hidden behavior on the sphinx rendered scikit-learn.org. See: https://github.com/scikit-learn/scikit-learn/issues/21755 */display: inline-block !important;position: relative;}#sk-container-id-1 div.sk-text-repr-fallback {display: none;}</style><div id=\"sk-container-id-1\" class=\"sk-top-container\"><div class=\"sk-text-repr-fallback\"><pre>LatentDirichletAllocation(random_state=0)</pre><b>In a Jupyter environment, please rerun this cell to show the HTML representation or trust the notebook. <br />On GitHub, the HTML representation is unable to render, please try loading this page with nbviewer.org.</b></div><div class=\"sk-container\" hidden><div class=\"sk-item\"><div class=\"sk-estimator sk-toggleable\"><input class=\"sk-toggleable__control sk-hidden--visually\" id=\"sk-estimator-id-1\" type=\"checkbox\" checked><label for=\"sk-estimator-id-1\" class=\"sk-toggleable__label sk-toggleable__label-arrow\">LatentDirichletAllocation</label><div class=\"sk-toggleable__content\"><pre>LatentDirichletAllocation(random_state=0)</pre></div></div></div></div></div>"
      ],
      "text/plain": [
       "LatentDirichletAllocation(random_state=0)"
      ]
     },
     "execution_count": 36,
     "metadata": {},
     "output_type": "execute_result"
    }
   ],
   "source": [
    "# implementing LDA model\n",
    "\n",
    "lda = LatentDirichletAllocation(n_components=10, random_state=0)\n",
    "#lda.fit(word_count)"
   ]
  },
  {
   "cell_type": "code",
   "execution_count": 38,
   "metadata": {},
   "outputs": [],
   "source": [
    "#Save the model\n",
    "#pickle.dump(lda, open('lda_model.pkl','wb'))\n",
    "\n",
    "#Load the model\n",
    "lda=pickle.load(open('lda_model.pkl','rb')"
   ]
  },
  {
   "cell_type": "code",
   "execution_count": 39,
   "metadata": {},
   "outputs": [
    {
     "name": "stdout",
     "output_type": "stream",
     "text": [
      "tf-idf matrix dimensions: (1010887, 2397)\n",
      "lda matrix dimensions: (1010887, 10)\n"
     ]
    }
   ],
   "source": [
    "# Normalize the matrix\n",
    "\n",
    "tfidf_norm = normalize(tfidfMatrix)\n",
    "lda_norm = normalize(lda.transform(word_count))\n",
    "\n",
    "# Dimensions check\n",
    "\n",
    "print(\"tf-idf matrix dimensions:\",tfidf_norm.shape)\n",
    "print(\"lda matrix dimensions:\",lda_norm.shape)"
   ]
  },
  {
   "cell_type": "markdown",
   "metadata": {},
   "source": [
    "## Content Profile"
   ]
  },
  {
   "cell_type": "code",
   "execution_count": null,
   "metadata": {},
   "outputs": [],
   "source": [
    "# We need to convert the sparse tfidf_norm matrix to a dense numpy array\n",
    "\n",
    "tdidf_norm_dense = tfidf_norm.toarray()\n",
    "\n",
    "# Array concatenation\n",
    "\n",
    "content_profile = np.concatenate((tdidf_norm_dense,lda_norm),axis=1)\n",
    "\n",
    "print(content_profile.shape)"
   ]
  },
  {
   "cell_type": "markdown",
   "metadata": {},
   "source": [
    "## User Profile"
   ]
  },
  {
   "cell_type": "code",
   "execution_count": 44,
   "metadata": {},
   "outputs": [],
   "source": [
    "user_id = 1756594\n",
    "\n",
    "#filtering ratings\n",
    "\n",
    "user_ratings = wines_ratings[wines_ratings[\"UserID\"] == user_id] \n",
    "\n",
    "#highly rated wines (by the user)\n",
    "\n",
    "highly_ratings = user_ratings[user_ratings[\"Rating\"] > 4]\n",
    "\n",
    "# Extracting the descriptions of these wines\n",
    "highly_descriptions = highly_ratings[\"Description\"]\n",
    "\n",
    "#Using tf-idf and lda you can transform descriptions into vectors\n",
    "tfidf_user = tfidfVectorizer.transform(highly_descriptions)\n",
    "lda_user = lda.transform(ldaVectorizer.transform(highly_descriptions))\n",
    "\n",
    "#normalize\n",
    "tfidf_user_norm = normalize(tfidf_user)\n",
    "lda_user_norm = normalize(lda_user)\n",
    "\n",
    "#User Profile\n",
    "\n",
    "user_profile = np.mean(np.concatenate((tfidf_user_norm.toarray(),lda_user_norm),axis=1),axis=0)\n",
    "\n"
   ]
  },
  {
   "cell_type": "code",
   "execution_count": null,
   "metadata": {},
   "outputs": [
    {
     "data": {
      "text/plain": [
       "array([0.        , 0.        , 0.        , ..., 0.00626199, 0.00626199,\n",
       "       0.00626164])"
      ]
     },
     "execution_count": 45,
     "metadata": {},
     "output_type": "execute_result"
    }
   ],
   "source": [
    "user_profile"
   ]
  },
  {
   "cell_type": "markdown",
   "metadata": {},
   "source": [
    "## Recommendation"
   ]
  },
  {
   "cell_type": "code",
   "execution_count": null,
   "metadata": {},
   "outputs": [],
   "source": [
    "# Cosine similarity\n",
    "from sklearn.metrics.pairwise import cosine_similarity\n",
    "\n",
    "similarity = cosine_similarity([user_profile],content_profile)\n",
    "\n",
    "# The 10 best wines to recommend\n",
    "n = 10\n",
    "index = np.argsort(similarity[0])[::-1][:n]\n",
    "\n",
    "recommendations = wines_ratings.iloc[index]\n",
    "recommendations = recommendations.drop_duplicates(subset=[\"WineID\"])\n",
    "\n",
    "print(recommendations[[\"WineID\",\"WineName\",\"WineryName\",\"Type\",\"Country\"]])"
   ]
  }
 ],
 "metadata": {
  "kernelspec": {
   "display_name": "Python 3 (ipykernel)",
   "language": "python",
   "name": "python3"
  },
  "language_info": {
   "codemirror_mode": {
    "name": "ipython",
    "version": 3
   },
   "file_extension": ".py",
   "mimetype": "text/x-python",
   "name": "python",
   "nbconvert_exporter": "python",
   "pygments_lexer": "ipython3",
   "version": "3.11.5"
  }
 },
 "nbformat": 4,
 "nbformat_minor": 2
}
